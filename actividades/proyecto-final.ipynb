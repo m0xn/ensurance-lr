{
 "cells": [
  {
   "cell_type": "markdown",
   "metadata": {},
   "source": [
    "# Proyecto final de la Primera Evaluación\n",
    "Este proyecto tiene como finalidad el entrenamiento y configuración de un modelo de Regresión Lineal simple y múltiple."
   ]
  },
  {
   "cell_type": "code",
   "execution_count": 4,
   "metadata": {},
   "outputs": [],
   "source": [
    "import pandas as pd\n",
    "import numpy as np\n",
    "\n",
    "from seaborn import boxplot, JointGrid, scatterplot, histplot"
   ]
  },
  {
   "cell_type": "code",
   "execution_count": 5,
   "metadata": {},
   "outputs": [],
   "source": [
    "path = '../data/datains_e.xlsx'\n",
    "df = pd.read_excel(path)"
   ]
  },
  {
   "cell_type": "markdown",
   "metadata": {},
   "source": [
    "## Estudio estructural de la base de datos \n",
    "Vamos a utilizar algunas de los métodos y propiedades de la clase `DataFrame` de `pandas` para estudiar la estructura de los datos."
   ]
  },
  {
   "cell_type": "code",
   "execution_count": 6,
   "metadata": {},
   "outputs": [
    {
     "name": "stdout",
     "output_type": "stream",
     "text": [
      "<class 'pandas.core.frame.DataFrame'>\n",
      "RangeIndex: 200 entries, 0 to 199\n",
      "Data columns (total 8 columns):\n",
      " #   Column    Non-Null Count  Dtype  \n",
      "---  ------    --------------  -----  \n",
      " 0   index     200 non-null    int64  \n",
      " 1   age       196 non-null    float64\n",
      " 2   sex       198 non-null    object \n",
      " 3   bmi       196 non-null    float64\n",
      " 4   children  199 non-null    float64\n",
      " 5   smoker    197 non-null    object \n",
      " 6   region    200 non-null    object \n",
      " 7   charges   200 non-null    float64\n",
      "dtypes: float64(4), int64(1), object(3)\n",
      "memory usage: 12.6+ KB\n"
     ]
    }
   ],
   "source": [
    "df.info()"
   ]
  },
  {
   "cell_type": "markdown",
   "metadata": {},
   "source": [
    "### Análisis\n",
    "Como se puede observar, contamos con **8 columnas** en una tabla con un total de **200 registros**.\n",
    "\n",
    "**5** de las 8 columnas (`age`, `sex`, `bmi`, `children`, `smoker`) cuentan **valores nulos** que deberemos tratar más adelante.\n",
    "\n",
    "Como indica `dtypes` en el informe, contamos con **5 variables númericas** (*4 de ellas son flotantes y 1 es entera*) y **3 variables categóricas** que tendremos que codificar posteriormente para estudiar su correlación con el **target**. \n",
    "\n",
    "En este caso, nuestra **variable objetivo o target** es el importe del seguro (`charge`) que depende del resto de variables; las **features o variables objetivo**.\n",
    "\n",
    "Ahora, vamos a observar también algunas **medidas estadísticas** que nos resultarán útiles a la hora de **escalar los valores**. "
   ]
  },
  {
   "cell_type": "code",
   "execution_count": 7,
   "metadata": {},
   "outputs": [
    {
     "data": {
      "text/html": [
       "<div>\n",
       "<style scoped>\n",
       "    .dataframe tbody tr th:only-of-type {\n",
       "        vertical-align: middle;\n",
       "    }\n",
       "\n",
       "    .dataframe tbody tr th {\n",
       "        vertical-align: top;\n",
       "    }\n",
       "\n",
       "    .dataframe thead th {\n",
       "        text-align: right;\n",
       "    }\n",
       "</style>\n",
       "<table border=\"1\" class=\"dataframe\">\n",
       "  <thead>\n",
       "    <tr style=\"text-align: right;\">\n",
       "      <th></th>\n",
       "      <th>index</th>\n",
       "      <th>age</th>\n",
       "      <th>bmi</th>\n",
       "      <th>children</th>\n",
       "      <th>charges</th>\n",
       "    </tr>\n",
       "  </thead>\n",
       "  <tbody>\n",
       "    <tr>\n",
       "      <th>count</th>\n",
       "      <td>200.000000</td>\n",
       "      <td>196.000000</td>\n",
       "      <td>196.000000</td>\n",
       "      <td>199.000000</td>\n",
       "      <td>200.000000</td>\n",
       "    </tr>\n",
       "    <tr>\n",
       "      <th>mean</th>\n",
       "      <td>710.965000</td>\n",
       "      <td>39.948980</td>\n",
       "      <td>32.417857</td>\n",
       "      <td>1.075377</td>\n",
       "      <td>13790.512035</td>\n",
       "    </tr>\n",
       "    <tr>\n",
       "      <th>std</th>\n",
       "      <td>386.430845</td>\n",
       "      <td>13.752294</td>\n",
       "      <td>22.629577</td>\n",
       "      <td>1.118868</td>\n",
       "      <td>12195.955051</td>\n",
       "    </tr>\n",
       "    <tr>\n",
       "      <th>min</th>\n",
       "      <td>5.000000</td>\n",
       "      <td>18.000000</td>\n",
       "      <td>16.815000</td>\n",
       "      <td>0.000000</td>\n",
       "      <td>1121.873900</td>\n",
       "    </tr>\n",
       "    <tr>\n",
       "      <th>25%</th>\n",
       "      <td>374.750000</td>\n",
       "      <td>27.750000</td>\n",
       "      <td>26.407500</td>\n",
       "      <td>0.000000</td>\n",
       "      <td>5451.159125</td>\n",
       "    </tr>\n",
       "    <tr>\n",
       "      <th>50%</th>\n",
       "      <td>750.500000</td>\n",
       "      <td>40.000000</td>\n",
       "      <td>30.800000</td>\n",
       "      <td>1.000000</td>\n",
       "      <td>9526.937700</td>\n",
       "    </tr>\n",
       "    <tr>\n",
       "      <th>75%</th>\n",
       "      <td>1048.250000</td>\n",
       "      <td>51.000000</td>\n",
       "      <td>34.900000</td>\n",
       "      <td>2.000000</td>\n",
       "      <td>17610.229900</td>\n",
       "    </tr>\n",
       "    <tr>\n",
       "      <th>max</th>\n",
       "      <td>1335.000000</td>\n",
       "      <td>64.000000</td>\n",
       "      <td>334.700000</td>\n",
       "      <td>5.000000</td>\n",
       "      <td>52590.829390</td>\n",
       "    </tr>\n",
       "  </tbody>\n",
       "</table>\n",
       "</div>"
      ],
      "text/plain": [
       "             index         age         bmi    children       charges\n",
       "count   200.000000  196.000000  196.000000  199.000000    200.000000\n",
       "mean    710.965000   39.948980   32.417857    1.075377  13790.512035\n",
       "std     386.430845   13.752294   22.629577    1.118868  12195.955051\n",
       "min       5.000000   18.000000   16.815000    0.000000   1121.873900\n",
       "25%     374.750000   27.750000   26.407500    0.000000   5451.159125\n",
       "50%     750.500000   40.000000   30.800000    1.000000   9526.937700\n",
       "75%    1048.250000   51.000000   34.900000    2.000000  17610.229900\n",
       "max    1335.000000   64.000000  334.700000    5.000000  52590.829390"
      ]
     },
     "execution_count": 7,
     "metadata": {},
     "output_type": "execute_result"
    }
   ],
   "source": [
    "# Tabla con medidas estadísticas básicas para cada variable numérica\n",
    "df.describe()"
   ]
  },
  {
   "cell_type": "markdown",
   "metadata": {},
   "source": [
    "## EDA (Análisis Exploratorio de Datos) \n",
    "Una vez hemos estudiado la estrucutra básica de los datos, debemos realizar el EDA. Este proceso va a consistir en los siguientes pasos:\n",
    "- Análisis descriptivo\n",
    "- Codificación de variables categóricas\n",
    "- Identificación y tratamiento de valores nulos -> **valores NaN**\n",
    "- Identificación y tratamiento de valores atípicos -> **outliers**\n",
    "- Estudio de correlación entre las variables de la base de datos."
   ]
  },
  {
   "cell_type": "markdown",
   "metadata": {},
   "source": [
    "### Análisis descriptivo\n",
    "En este proceso, vamos a analizar la distribución de los datos; su **dispersión con respecto al target o variable objetivo**, ya que hemos establecido anteriormente cuál es; y la presencia de **outliers o valores atípicos** con un **diagrama de caja y bigote**. Esto implica que a la hora de tratar los outliers, ya habremos cubierto la parte de identificación, por lo que adelantamos trabajo.\n",
    "\n",
    "Con el objetivo de aprovechar espacio dentro del cuaderno, voy a utilizar la clase `JointGrid` de la librería `seaborn` para representar la distribución y dispersión de los datos con respecto a la variable objetivo.\n",
    "Para evitar guardar referencias inncesarias dentro de la memoria, voy a utilizar instancias anónima de la calase."
   ]
  },
  {
   "cell_type": "code",
   "execution_count": 20,
   "metadata": {},
   "outputs": [
    {
     "data": {
      "text/plain": [
       "<seaborn.axisgrid.JointGrid at 0x7f11900bf7d0>"
      ]
     },
     "execution_count": 20,
     "metadata": {},
     "output_type": "execute_result"
    },
    {
     "data": {
      "image/png": "[encoded data removed]",
      "text/plain": [
       "<Figure size 600x600 with 3 Axes>"
      ]
     },
     "metadata": {},
     "output_type": "display_data"
    }
   ],
   "source": [
    "JointGrid(data=df, x='index', y='charges') \\\n",
    "    .plot(scatterplot, histplot)"
   ]
  },
  {
   "cell_type": "code",
   "execution_count": 17,
   "metadata": {},
   "outputs": [
    {
     "data": {
      "text/plain": [
       "<seaborn.axisgrid.JointGrid at 0x7f118f425590>"
      ]
     },
     "execution_count": 17,
     "metadata": {},
     "output_type": "execute_result"
    }
   ],
   "source": []
  }
 ],
 "metadata": {
  "kernelspec": {
   "display_name": "venv",
   "language": "python",
   "name": "python3"
  },
  "language_info": {
   "codemirror_mode": {
    "name": "ipython",
    "version": 3
   },
   "file_extension": ".py",
   "mimetype": "text/x-python",
   "name": "python",
   "nbconvert_exporter": "python",
   "pygments_lexer": "ipython3",
   "version": "3.11.6"
  }
 },
 "nbformat": 4,
 "nbformat_minor": 2
}
